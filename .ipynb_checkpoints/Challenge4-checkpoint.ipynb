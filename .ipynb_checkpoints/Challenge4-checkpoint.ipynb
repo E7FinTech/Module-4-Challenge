{
 "cells": [
  {
   "cell_type": "code",
   "execution_count": null,
   "id": "8769dc2a-1c4b-45d5-815b-ff60ca6cf3d1",
   "metadata": {},
   "outputs": [],
   "source": [
    "# Challenge 4"
   ]
  },
  {
   "cell_type": "code",
   "execution_count": 9,
   "id": "f3c4290c-e8f4-40fd-96a5-31400725fcc9",
   "metadata": {
    "tags": []
   },
   "outputs": [],
   "source": [
    "# Initialize imports\n",
    "import csv \n",
    "import pandas as pd\n",
    "import numpy as np\n",
    "import datetime as dt\n",
    "from pathlib import Path\n",
    "\n",
    "%matplotlib inline"
   ]
  },
  {
   "cell_type": "code",
   "execution_count": 37,
   "id": "51d1a121-00a8-444e-b72f-ccb2420d0515",
   "metadata": {
    "tags": []
   },
   "outputs": [],
   "source": [
    "# Set .csv file paths\n",
    "whale_returns = Path(\"./Resources/whale_returns.csv\")\n",
    "algo_returns = Path(\"./Resources/algo_returns.csv\")\n",
    "sp500_history = Path(\"./Resources/sp500_history.csv\")\n",
    "\n",
    "# Load CSV data into Pandas using read_csv\n",
    "whale_returns_data = pd.read_csv(whale_returns, parse_dates=True, infer_datetime_format=True)\n",
    "algo_returns_data = pd.read_csv(algo_returns, parse_dates=True, infer_datetime_format=True)\n",
    "sp500_history_data = pd.read_csv(sp500_history, parse_dates=True, infer_datetime_format=True)\n",
    "\n",
    "# Create a dataframe using CSV data\n",
    "whale_df = pd.read_csv(\"./Resources/whale_returns.csv\")\n",
    "algo_df = pd.read_csv(\"./Resources/algo_returns.csv\")\n",
    "sp500_df = pd.read_csv(\"./Resources/sp500_history.csv\")\n"
   ]
  },
  {
   "cell_type": "code",
   "execution_count": 38,
   "id": "937581dc-6e1f-427d-977c-200229139617",
   "metadata": {},
   "outputs": [
    {
     "name": "stdout",
     "output_type": "stream",
     "text": [
      "            Date  SOROS FUND MANAGEMENT LLC  PAULSON & CO.INC.   \\\n",
      "0     2015-03-02                        NaN                 NaN   \n",
      "1     2015-03-03                  -0.001266           -0.004981   \n",
      "2     2015-03-04                   0.002230            0.003241   \n",
      "3     2015-03-05                   0.004016            0.004076   \n",
      "4     2015-03-06                  -0.007905           -0.003574   \n",
      "...          ...                        ...                 ...   \n",
      "1055  2019-04-25                  -0.000285           -0.001291   \n",
      "1056  2019-04-26                   0.008149            0.009162   \n",
      "1057  2019-04-29                   0.001254            0.002719   \n",
      "1058  2019-04-30                  -0.001295           -0.002211   \n",
      "1059  2019-05-01                  -0.005847           -0.001341   \n",
      "\n",
      "      TIGER GLOBAL MANAGEMENT LLC  BERKSHIRE HATHAWAY INC  \n",
      "0                             NaN                     NaN  \n",
      "1                       -0.000496               -0.006569  \n",
      "2                       -0.002534                0.004213  \n",
      "3                        0.002355                0.006726  \n",
      "4                       -0.008481               -0.013098  \n",
      "...                           ...                     ...  \n",
      "1055                    -0.005153                0.004848  \n",
      "1056                     0.012355                0.010434  \n",
      "1057                     0.006251                0.005223  \n",
      "1058                    -0.000259               -0.003702  \n",
      "1059                    -0.007936               -0.007833  \n",
      "\n",
      "[1060 rows x 5 columns]\n"
     ]
    }
   ],
   "source": [
    "# Initialize Data Exploration: Print to ensure that data loads correctly\n",
    "print(whale_df)\n"
   ]
  },
  {
   "cell_type": "code",
   "execution_count": 39,
   "id": "dca5904f-9405-41d2-b005-255dbe59dd98",
   "metadata": {},
   "outputs": [
    {
     "name": "stdout",
     "output_type": "stream",
     "text": [
      "<class 'pandas.core.frame.DataFrame'>\n",
      "RangeIndex: 1060 entries, 0 to 1059\n",
      "Data columns (total 5 columns):\n",
      " #   Column                       Non-Null Count  Dtype  \n",
      "---  ------                       --------------  -----  \n",
      " 0   Date                         1060 non-null   object \n",
      " 1   SOROS FUND MANAGEMENT LLC    1059 non-null   float64\n",
      " 2   PAULSON & CO.INC.            1059 non-null   float64\n",
      " 3   TIGER GLOBAL MANAGEMENT LLC  1059 non-null   float64\n",
      " 4   BERKSHIRE HATHAWAY INC       1059 non-null   float64\n",
      "dtypes: float64(4), object(1)\n",
      "memory usage: 41.5+ KB\n"
     ]
    }
   ],
   "source": [
    "# Search for nulls\n",
    "whale_df.shape\n",
    "whale_df.info()\n"
   ]
  },
  {
   "cell_type": "code",
   "execution_count": 34,
   "id": "32384986-e507-4a3b-a726-85f2676e2856",
   "metadata": {},
   "outputs": [],
   "source": [
    "# Drop nulls\n",
    "whale_df=whale_df.dropna()\n",
    "algo_df=whale_df.dropna()\n",
    "sp500_df=whale_df.dropna()"
   ]
  },
  {
   "cell_type": "code",
   "execution_count": 8,
   "id": "187a73d5-346c-41b6-92bf-459de0128609",
   "metadata": {},
   "outputs": [],
   "source": [
    "# Set Date as index\n",
    "whale_df = whale_df.set_index('Date')\n",
    "algo_df = algo_df.set_index('Date')\n",
    "sp500_df = sp500_df.set_index('Date')\n"
   ]
  },
  {
   "cell_type": "code",
   "execution_count": null,
   "id": "a1018290-d1c7-4248-898e-465231823aad",
   "metadata": {},
   "outputs": [],
   "source": [
    "\n",
    "#open the csv file\n",
    "#with open('budget_data.csv') as csvfile:  \n",
    "#   csvreader = csv.DictReader(csvfile)"
   ]
  },
  {
   "cell_type": "code",
   "execution_count": 41,
   "id": "fad2114f-1a6b-466d-9c23-2f576085a799",
   "metadata": {},
   "outputs": [],
   "source": [
    "# print(whale_df)\n",
    "# print(algo_df)\n",
    "# print(sp500_df)\n",
    "\n",
    "# Print the datatype of the file object\n",
    "# print(type(csvfile))\n",
    "\n"
   ]
  },
  {
   "cell_type": "code",
   "execution_count": 33,
   "id": "a11d4bce-d004-40d2-bfb3-ca505a697bf7",
   "metadata": {},
   "outputs": [],
   "source": [
    "# Concat portfolios into one DataFrame\n",
    "# merged_portfolio = pd.concat([whale_returns, algo_returns,sp500_history], axis='columns', join='inner')\n",
    "# merged_portfolio.head()"
   ]
  },
  {
   "cell_type": "code",
   "execution_count": 12,
   "id": "af6aa134-0100-417a-bed6-36a9cdf5a071",
   "metadata": {},
   "outputs": [],
   "source": [
    "# Pass in the csv file to the csv.reader() function (with ',' as the delmiter/separator) and return the csvreader object\n",
    "#csvreader = csv.reader(csvfile, delimiter=',')\n",
    "\n",
    "# Print the datatype of the csvreader\n",
    "# print(type(csvreader))"
   ]
  },
  {
   "cell_type": "code",
   "execution_count": 13,
   "id": "4a150be6-84f5-422b-b127-1ecc73169b6d",
   "metadata": {},
   "outputs": [],
   "source": [
    " # Go to the next row from the start of the file\n",
    "    # (which is often the first row/header) and iterate line_num by 1\n",
    "    # header = next(csvreader)\n",
    "    # line_num += 1\n",
    "    # Print the header\n",
    "    #print(f\"{header} <---- HEADER\")\n",
    "\n",
    "    # Read each row of data after the header\n",
    "    # for row in csvreader:\n",
    "        # Print the row\n",
    "        # print(row)"
   ]
  },
  {
   "cell_type": "code",
   "execution_count": 4,
   "id": "ec3f5f42-158a-4218-a5e1-12e49d6aa66a",
   "metadata": {},
   "outputs": [],
   "source": [
    "# Set the output file path\n",
    "#output_path = Path('output.csv')\n",
    "\n",
    "# Open the output path as a file object\n",
    "#with open(output_path, 'w') as csvfile:\n",
    "    # Set the file object as a csvwriter object\n",
    "    #csvwriter = csv.writer(csvfile, delimiter=',')\n",
    "    # Write the header to the output file\n",
    "    #csvwriter.writerow(header)\n",
    "    # Write the list of metrics to the output file\n",
    "    #csvwriter.writerow(metrics)\n",
    "    \n",
    "    \n",
    "    "
   ]
  },
  {
   "cell_type": "code",
   "execution_count": 29,
   "id": "a463bdf0-fce9-471d-883b-292bfbbd4a45",
   "metadata": {},
   "outputs": [],
   "source": [
    "# Concat returns DataFrames\n",
    "# all_returns = pd.concat([harold_returns,my_returns], axis='columns', join='inner')\n",
    "# all_returns.head()"
   ]
  },
  {
   "cell_type": "code",
   "execution_count": null,
   "id": "571ebd3e-815e-4511-9f6b-6a451268e4cb",
   "metadata": {},
   "outputs": [],
   "source": [
    "#Scatter Plot\n",
    "#df.plot()\n",
    "\n"
   ]
  },
  {
   "cell_type": "code",
   "execution_count": null,
   "id": "cc953bea-7010-4188-9865-9b875a8e75f1",
   "metadata": {},
   "outputs": [],
   "source": [
    "# Calculate Sharpe Ratio\n",
    "# sharpe_ratios = (all_returns.mean() * 252) / (all_portfolio_std * np.sqrt(252))\n",
    "# sharpe_ratios.head()"
   ]
  },
  {
   "cell_type": "code",
   "execution_count": null,
   "id": "2ef814d7-70e8-4828-9ab9-58ed3796a93b",
   "metadata": {},
   "outputs": [],
   "source": [
    "# Plot Sharpe Ratio\n",
    "sharpe_ratios.plot.bar(title='Sharpe Ratios')"
   ]
  }
 ],
 "metadata": {
  "kernelspec": {
   "display_name": "Python 3 (ipykernel)",
   "language": "python",
   "name": "python3"
  },
  "language_info": {
   "codemirror_mode": {
    "name": "ipython",
    "version": 3
   },
   "file_extension": ".py",
   "mimetype": "text/x-python",
   "name": "python",
   "nbconvert_exporter": "python",
   "pygments_lexer": "ipython3",
   "version": "3.9.12"
  }
 },
 "nbformat": 4,
 "nbformat_minor": 5
}
