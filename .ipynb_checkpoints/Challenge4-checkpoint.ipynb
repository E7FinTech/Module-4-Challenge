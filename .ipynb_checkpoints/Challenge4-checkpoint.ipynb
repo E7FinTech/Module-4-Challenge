{
 "cells": [
  {
   "cell_type": "code",
   "execution_count": null,
   "id": "8769dc2a-1c4b-45d5-815b-ff60ca6cf3d1",
   "metadata": {},
   "outputs": [],
   "source": [
    "# Challenge 4"
   ]
  },
  {
   "cell_type": "code",
   "execution_count": 90,
   "id": "f3c4290c-e8f4-40fd-96a5-31400725fcc9",
   "metadata": {
    "tags": []
   },
   "outputs": [],
   "source": [
    "# Initialize imports\n",
    "import csv \n",
    "import pandas as pd\n",
    "import numpy as np\n",
    "import datetime as dt\n",
    "from pathlib import Path\n",
    "\n",
    "%matplotlib inline"
   ]
  },
  {
   "cell_type": "code",
   "execution_count": 91,
   "id": "51d1a121-00a8-444e-b72f-ccb2420d0515",
   "metadata": {
    "tags": []
   },
   "outputs": [],
   "source": [
    "# Set .csv file paths\n",
    "whale_returns = Path(\"./Resources/whale_returns.csv\")\n",
    "algo_returns = Path(\"./Resources/algo_returns.csv\")\n",
    "sp500_history = Path(\"./Resources/sp500_history.csv\")\n",
    "\n",
    "# Load CSV data into Pandas using read_csv\n",
    "whale_returns_data = pd.read_csv(whale_returns, parse_dates=True, infer_datetime_format=True)\n",
    "algo_returns_data = pd.read_csv(algo_returns, parse_dates=True, infer_datetime_format=True)\n",
    "sp500_history_data = pd.read_csv(sp500_history, parse_dates=True, infer_datetime_format=True)\n",
    "\n"
   ]
  },
  {
   "cell_type": "code",
   "execution_count": 92,
   "id": "187a73d5-346c-41b6-92bf-459de0128609",
   "metadata": {
    "tags": []
   },
   "outputs": [],
   "source": [
    "# Create dataframes using CSV data\n",
    "whale_df = pd.read_csv(\"./Resources/whale_returns.csv\")\n",
    "algo_df = pd.read_csv(\"./Resources/algo_returns.csv\")\n",
    "sp500_df = pd.read_csv(\"./Resources/sp500_history.csv\")"
   ]
  },
  {
   "cell_type": "code",
   "execution_count": 93,
   "id": "96f07420-c3c0-482f-a4ee-985924b82e5f",
   "metadata": {},
   "outputs": [],
   "source": [
    "# Set Date as index\n",
    "whale_df = whale_df.set_index('Date')\n",
    "algo_df = algo_df.set_index('Date')\n",
    "sp500_df = sp500_df.set_index('Date')"
   ]
  },
  {
   "cell_type": "code",
   "execution_count": 94,
   "id": "937581dc-6e1f-427d-977c-200229139617",
   "metadata": {},
   "outputs": [
    {
     "name": "stdout",
     "output_type": "stream",
     "text": [
      "            SOROS FUND MANAGEMENT LLC  PAULSON & CO.INC.   \\\n",
      "Date                                                        \n",
      "2015-03-02                        NaN                 NaN   \n",
      "2015-03-03                  -0.001266           -0.004981   \n",
      "2015-03-04                   0.002230            0.003241   \n",
      "2015-03-05                   0.004016            0.004076   \n",
      "2015-03-06                  -0.007905           -0.003574   \n",
      "...                               ...                 ...   \n",
      "2019-04-25                  -0.000285           -0.001291   \n",
      "2019-04-26                   0.008149            0.009162   \n",
      "2019-04-29                   0.001254            0.002719   \n",
      "2019-04-30                  -0.001295           -0.002211   \n",
      "2019-05-01                  -0.005847           -0.001341   \n",
      "\n",
      "            TIGER GLOBAL MANAGEMENT LLC  BERKSHIRE HATHAWAY INC  \n",
      "Date                                                             \n",
      "2015-03-02                          NaN                     NaN  \n",
      "2015-03-03                    -0.000496               -0.006569  \n",
      "2015-03-04                    -0.002534                0.004213  \n",
      "2015-03-05                     0.002355                0.006726  \n",
      "2015-03-06                    -0.008481               -0.013098  \n",
      "...                                 ...                     ...  \n",
      "2019-04-25                    -0.005153                0.004848  \n",
      "2019-04-26                     0.012355                0.010434  \n",
      "2019-04-29                     0.006251                0.005223  \n",
      "2019-04-30                    -0.000259               -0.003702  \n",
      "2019-05-01                    -0.007936               -0.007833  \n",
      "\n",
      "[1060 rows x 4 columns]\n"
     ]
    }
   ],
   "source": [
    "# Initialize Data Exploration: Print to ensure that data loads correctly\n",
    "print(whale_df)"
   ]
  },
  {
   "cell_type": "code",
   "execution_count": 95,
   "id": "dca5904f-9405-41d2-b005-255dbe59dd98",
   "metadata": {},
   "outputs": [
    {
     "name": "stdout",
     "output_type": "stream",
     "text": [
      "<class 'pandas.core.frame.DataFrame'>\n",
      "Index: 1060 entries, 2015-03-02 to 2019-05-01\n",
      "Data columns (total 4 columns):\n",
      " #   Column                       Non-Null Count  Dtype  \n",
      "---  ------                       --------------  -----  \n",
      " 0   SOROS FUND MANAGEMENT LLC    1059 non-null   float64\n",
      " 1   PAULSON & CO.INC.            1059 non-null   float64\n",
      " 2   TIGER GLOBAL MANAGEMENT LLC  1059 non-null   float64\n",
      " 3   BERKSHIRE HATHAWAY INC       1059 non-null   float64\n",
      "dtypes: float64(4)\n",
      "memory usage: 41.4+ KB\n"
     ]
    }
   ],
   "source": [
    "# Search for nulls\n",
    "whale_df.info()"
   ]
  },
  {
   "cell_type": "code",
   "execution_count": 96,
   "id": "d55e0a1e-e2cf-49af-a92d-aea71307693b",
   "metadata": {},
   "outputs": [
    {
     "data": {
      "text/plain": [
       "(1060, 4)"
      ]
     },
     "execution_count": 96,
     "metadata": {},
     "output_type": "execute_result"
    }
   ],
   "source": [
    "whale_df.shape"
   ]
  },
  {
   "cell_type": "code",
   "execution_count": 97,
   "id": "9e5b2dfb-54b4-4403-897a-c7e615d88b69",
   "metadata": {},
   "outputs": [
    {
     "data": {
      "text/html": [
       "<div>\n",
       "<style scoped>\n",
       "    .dataframe tbody tr th:only-of-type {\n",
       "        vertical-align: middle;\n",
       "    }\n",
       "\n",
       "    .dataframe tbody tr th {\n",
       "        vertical-align: top;\n",
       "    }\n",
       "\n",
       "    .dataframe thead th {\n",
       "        text-align: right;\n",
       "    }\n",
       "</style>\n",
       "<table border=\"1\" class=\"dataframe\">\n",
       "  <thead>\n",
       "    <tr style=\"text-align: right;\">\n",
       "      <th></th>\n",
       "      <th>SOROS FUND MANAGEMENT LLC</th>\n",
       "      <th>PAULSON &amp; CO.INC.</th>\n",
       "      <th>TIGER GLOBAL MANAGEMENT LLC</th>\n",
       "      <th>BERKSHIRE HATHAWAY INC</th>\n",
       "    </tr>\n",
       "    <tr>\n",
       "      <th>Date</th>\n",
       "      <th></th>\n",
       "      <th></th>\n",
       "      <th></th>\n",
       "      <th></th>\n",
       "    </tr>\n",
       "  </thead>\n",
       "  <tbody>\n",
       "    <tr>\n",
       "      <th>2015-03-02</th>\n",
       "      <td>True</td>\n",
       "      <td>True</td>\n",
       "      <td>True</td>\n",
       "      <td>True</td>\n",
       "    </tr>\n",
       "    <tr>\n",
       "      <th>2015-03-03</th>\n",
       "      <td>False</td>\n",
       "      <td>False</td>\n",
       "      <td>False</td>\n",
       "      <td>False</td>\n",
       "    </tr>\n",
       "    <tr>\n",
       "      <th>2015-03-04</th>\n",
       "      <td>False</td>\n",
       "      <td>False</td>\n",
       "      <td>False</td>\n",
       "      <td>False</td>\n",
       "    </tr>\n",
       "    <tr>\n",
       "      <th>2015-03-05</th>\n",
       "      <td>False</td>\n",
       "      <td>False</td>\n",
       "      <td>False</td>\n",
       "      <td>False</td>\n",
       "    </tr>\n",
       "    <tr>\n",
       "      <th>2015-03-06</th>\n",
       "      <td>False</td>\n",
       "      <td>False</td>\n",
       "      <td>False</td>\n",
       "      <td>False</td>\n",
       "    </tr>\n",
       "    <tr>\n",
       "      <th>...</th>\n",
       "      <td>...</td>\n",
       "      <td>...</td>\n",
       "      <td>...</td>\n",
       "      <td>...</td>\n",
       "    </tr>\n",
       "    <tr>\n",
       "      <th>2019-04-25</th>\n",
       "      <td>False</td>\n",
       "      <td>False</td>\n",
       "      <td>False</td>\n",
       "      <td>False</td>\n",
       "    </tr>\n",
       "    <tr>\n",
       "      <th>2019-04-26</th>\n",
       "      <td>False</td>\n",
       "      <td>False</td>\n",
       "      <td>False</td>\n",
       "      <td>False</td>\n",
       "    </tr>\n",
       "    <tr>\n",
       "      <th>2019-04-29</th>\n",
       "      <td>False</td>\n",
       "      <td>False</td>\n",
       "      <td>False</td>\n",
       "      <td>False</td>\n",
       "    </tr>\n",
       "    <tr>\n",
       "      <th>2019-04-30</th>\n",
       "      <td>False</td>\n",
       "      <td>False</td>\n",
       "      <td>False</td>\n",
       "      <td>False</td>\n",
       "    </tr>\n",
       "    <tr>\n",
       "      <th>2019-05-01</th>\n",
       "      <td>False</td>\n",
       "      <td>False</td>\n",
       "      <td>False</td>\n",
       "      <td>False</td>\n",
       "    </tr>\n",
       "  </tbody>\n",
       "</table>\n",
       "<p>1060 rows × 4 columns</p>\n",
       "</div>"
      ],
      "text/plain": [
       "            SOROS FUND MANAGEMENT LLC  PAULSON & CO.INC.   \\\n",
       "Date                                                        \n",
       "2015-03-02                       True                True   \n",
       "2015-03-03                      False               False   \n",
       "2015-03-04                      False               False   \n",
       "2015-03-05                      False               False   \n",
       "2015-03-06                      False               False   \n",
       "...                               ...                 ...   \n",
       "2019-04-25                      False               False   \n",
       "2019-04-26                      False               False   \n",
       "2019-04-29                      False               False   \n",
       "2019-04-30                      False               False   \n",
       "2019-05-01                      False               False   \n",
       "\n",
       "            TIGER GLOBAL MANAGEMENT LLC  BERKSHIRE HATHAWAY INC  \n",
       "Date                                                             \n",
       "2015-03-02                         True                    True  \n",
       "2015-03-03                        False                   False  \n",
       "2015-03-04                        False                   False  \n",
       "2015-03-05                        False                   False  \n",
       "2015-03-06                        False                   False  \n",
       "...                                 ...                     ...  \n",
       "2019-04-25                        False                   False  \n",
       "2019-04-26                        False                   False  \n",
       "2019-04-29                        False                   False  \n",
       "2019-04-30                        False                   False  \n",
       "2019-05-01                        False                   False  \n",
       "\n",
       "[1060 rows x 4 columns]"
      ]
     },
     "execution_count": 97,
     "metadata": {},
     "output_type": "execute_result"
    }
   ],
   "source": [
    "whale_df.isna()"
   ]
  },
  {
   "cell_type": "code",
   "execution_count": 98,
   "id": "32384986-e507-4a3b-a726-85f2676e2856",
   "metadata": {
    "tags": []
   },
   "outputs": [],
   "source": [
    "# Drop nulls\n",
    "whale_df=whale_df.dropna()\n",
    "algo_df=algo_df.dropna()\n",
    "sp500_df=sp500_df.dropna()"
   ]
  },
  {
   "cell_type": "code",
   "execution_count": 99,
   "id": "a1018290-d1c7-4248-898e-465231823aad",
   "metadata": {
    "tags": []
   },
   "outputs": [],
   "source": [
    "# print(whale_df)\n",
    "# print(algo_df)\n",
    "# print(sp500_df)\n"
   ]
  },
  {
   "cell_type": "code",
   "execution_count": 100,
   "id": "a11d4bce-d004-40d2-bfb3-ca505a697bf7",
   "metadata": {
    "tags": []
   },
   "outputs": [
    {
     "data": {
      "text/html": [
       "<div>\n",
       "<style scoped>\n",
       "    .dataframe tbody tr th:only-of-type {\n",
       "        vertical-align: middle;\n",
       "    }\n",
       "\n",
       "    .dataframe tbody tr th {\n",
       "        vertical-align: top;\n",
       "    }\n",
       "\n",
       "    .dataframe thead th {\n",
       "        text-align: right;\n",
       "    }\n",
       "</style>\n",
       "<table border=\"1\" class=\"dataframe\">\n",
       "  <thead>\n",
       "    <tr style=\"text-align: right;\">\n",
       "      <th></th>\n",
       "      <th>SOROS FUND MANAGEMENT LLC</th>\n",
       "      <th>PAULSON &amp; CO.INC.</th>\n",
       "      <th>TIGER GLOBAL MANAGEMENT LLC</th>\n",
       "      <th>BERKSHIRE HATHAWAY INC</th>\n",
       "      <th>Algo 1</th>\n",
       "      <th>Algo 2</th>\n",
       "      <th>Close</th>\n",
       "    </tr>\n",
       "    <tr>\n",
       "      <th>Date</th>\n",
       "      <th></th>\n",
       "      <th></th>\n",
       "      <th></th>\n",
       "      <th></th>\n",
       "      <th></th>\n",
       "      <th></th>\n",
       "      <th></th>\n",
       "    </tr>\n",
       "  </thead>\n",
       "  <tbody>\n",
       "  </tbody>\n",
       "</table>\n",
       "</div>"
      ],
      "text/plain": [
       "Empty DataFrame\n",
       "Columns: [SOROS FUND MANAGEMENT LLC, PAULSON & CO.INC. , TIGER GLOBAL MANAGEMENT LLC, BERKSHIRE HATHAWAY INC, Algo 1, Algo 2, Close]\n",
       "Index: []"
      ]
     },
     "execution_count": 100,
     "metadata": {},
     "output_type": "execute_result"
    }
   ],
   "source": [
    "# Concat portfolios into one DataFrame\n",
    "merged_portfolio_df = pd.concat([whale_df, algo_df,sp500_df], axis=1, join='inner', sort=True)\n",
    "merged_portfolio_df"
   ]
  },
  {
   "cell_type": "code",
   "execution_count": 101,
   "id": "45148ba6-5fbe-4dd0-b762-6cbffd678ffc",
   "metadata": {},
   "outputs": [],
   "source": [
    "\n",
    "#open the csv file\n",
    "#with open('budget_data.csv') as csvfile:  \n",
    "#   csvreader = csv.DictReader(csvfile)"
   ]
  },
  {
   "cell_type": "code",
   "execution_count": 41,
   "id": "fad2114f-1a6b-466d-9c23-2f576085a799",
   "metadata": {},
   "outputs": [],
   "source": [
    "# Print the datatype of the XXX\n",
    "# print(type(csvfile))"
   ]
  },
  {
   "cell_type": "code",
   "execution_count": 12,
   "id": "af6aa134-0100-417a-bed6-36a9cdf5a071",
   "metadata": {},
   "outputs": [],
   "source": [
    "# Pass in the csv file to the csv.reader() function (with ',' as the delmiter/separator) and return the csvreader object\n",
    "#csvreader = csv.reader(csvfile, delimiter=',')\n",
    "\n",
    "# Print the datatype of the csvreader\n",
    "# print(type(csvreader))"
   ]
  },
  {
   "cell_type": "code",
   "execution_count": 13,
   "id": "4a150be6-84f5-422b-b127-1ecc73169b6d",
   "metadata": {},
   "outputs": [],
   "source": [
    " # Go to the next row from the start of the file\n",
    "    # (which is often the first row/header) and iterate line_num by 1\n",
    "    # header = next(csvreader)\n",
    "    # line_num += 1\n",
    "    # Print the header\n",
    "    #print(f\"{header} <---- HEADER\")\n",
    "\n",
    "    # Read each row of data after the header\n",
    "    # for row in csvreader:\n",
    "        # Print the row\n",
    "        # print(row)"
   ]
  },
  {
   "cell_type": "code",
   "execution_count": null,
   "id": "ee01dfac-e3b5-4fba-8ebb-5ebcbafd5a3c",
   "metadata": {},
   "outputs": [],
   "source": [
    "# Calculate std dev\n",
    "# merged_portfolio = all_returns.std()\n",
    "# merged_portfolio_std.head()"
   ]
  },
  {
   "cell_type": "code",
   "execution_count": null,
   "id": "571ebd3e-815e-4511-9f6b-6a451268e4cb",
   "metadata": {},
   "outputs": [],
   "source": [
    "#Scatter Plot\n",
    "#df.plot()\n",
    "\n"
   ]
  },
  {
   "cell_type": "code",
   "execution_count": null,
   "id": "cc953bea-7010-4188-9865-9b875a8e75f1",
   "metadata": {},
   "outputs": [],
   "source": [
    "# Calculate Sharpe Ratio\n",
    "# sharpe_ratios = (all_returns.mean() * 252) / (all_portfolio_std * np.sqrt(252))\n",
    "# sharpe_ratios.head()"
   ]
  },
  {
   "cell_type": "code",
   "execution_count": null,
   "id": "2ef814d7-70e8-4828-9ab9-58ed3796a93b",
   "metadata": {},
   "outputs": [],
   "source": [
    "# Plot Sharpe Ratio\n",
    "sharpe_ratios.plot.bar(title='Sharpe Ratios')"
   ]
  }
 ],
 "metadata": {
  "kernelspec": {
   "display_name": "Python 3 (ipykernel)",
   "language": "python",
   "name": "python3"
  },
  "language_info": {
   "codemirror_mode": {
    "name": "ipython",
    "version": 3
   },
   "file_extension": ".py",
   "mimetype": "text/x-python",
   "name": "python",
   "nbconvert_exporter": "python",
   "pygments_lexer": "ipython3",
   "version": "3.9.12"
  }
 },
 "nbformat": 4,
 "nbformat_minor": 5
}
